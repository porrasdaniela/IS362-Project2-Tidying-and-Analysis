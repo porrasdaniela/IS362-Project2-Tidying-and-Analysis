{
 "cells": [
  {
   "cell_type": "markdown",
   "id": "6471466e-34f7-4420-864f-3aa788c40d4a",
   "metadata": {},
   "source": [
    "Dataset 1: Construction Data Cleaning & Analysis\n",
    "\n",
    "In this notebook, we will clean and transform an untidy construction dataset. The original dataset contains monthly construction data, but it's currently untidy due to how regions and unit types are structured. This dataset came from my classmate Gerardo Molina. In the discussion he requested that the analysis could be in which region has more construction and if a month favors more or less. Along with if there is a pattern with the unit numbers and region"
   ]
  },
  {
   "cell_type": "markdown",
   "id": "6d8f074c-f341-4746-94b0-048c8aeb378a",
   "metadata": {},
   "source": [
    "1. Import Libraries & Load Data"
   ]
  },
  {
   "cell_type": "code",
   "execution_count": 1,
   "id": "555becb5-774d-41ba-b551-2549c6438f6f",
   "metadata": {},
   "outputs": [],
   "source": [
    "import pandas as pd\n",
    "import numpy as np\n",
    "import matplotlib.pyplot as plt"
   ]
  },
  {
   "cell_type": "code",
   "execution_count": 15,
   "id": "864e1573-9766-43e5-ab6d-cbec9dae452e",
   "metadata": {},
   "outputs": [
    {
     "data": {
      "text/html": [
       "<div>\n",
       "<style scoped>\n",
       "    .dataframe tbody tr th:only-of-type {\n",
       "        vertical-align: middle;\n",
       "    }\n",
       "\n",
       "    .dataframe tbody tr th {\n",
       "        vertical-align: top;\n",
       "    }\n",
       "\n",
       "    .dataframe thead th {\n",
       "        text-align: right;\n",
       "    }\n",
       "</style>\n",
       "<table border=\"1\" class=\"dataframe\">\n",
       "  <thead>\n",
       "    <tr style=\"text-align: right;\">\n",
       "      <th></th>\n",
       "      <th>Year</th>\n",
       "      <th>Month</th>\n",
       "      <th>1 unit</th>\n",
       "      <th>2 to 4 units</th>\n",
       "      <th>5 units or more</th>\n",
       "      <th>Northeast</th>\n",
       "      <th>Midwest</th>\n",
       "      <th>South</th>\n",
       "      <th>West</th>\n",
       "    </tr>\n",
       "  </thead>\n",
       "  <tbody>\n",
       "    <tr>\n",
       "      <th>0</th>\n",
       "      <td>2018</td>\n",
       "      <td>January</td>\n",
       "      <td>859</td>\n",
       "      <td>NaN</td>\n",
       "      <td>348</td>\n",
       "      <td>114</td>\n",
       "      <td>169</td>\n",
       "      <td>596</td>\n",
       "      <td>339</td>\n",
       "    </tr>\n",
       "    <tr>\n",
       "      <th>1</th>\n",
       "      <td>2018</td>\n",
       "      <td>February</td>\n",
       "      <td>882</td>\n",
       "      <td>NaN</td>\n",
       "      <td>400</td>\n",
       "      <td>138</td>\n",
       "      <td>160</td>\n",
       "      <td>655</td>\n",
       "      <td>336</td>\n",
       "    </tr>\n",
       "    <tr>\n",
       "      <th>2</th>\n",
       "      <td>2018</td>\n",
       "      <td>March</td>\n",
       "      <td>862</td>\n",
       "      <td>NaN</td>\n",
       "      <td>356</td>\n",
       "      <td>150</td>\n",
       "      <td>154</td>\n",
       "      <td>595</td>\n",
       "      <td>330</td>\n",
       "    </tr>\n",
       "    <tr>\n",
       "      <th>3</th>\n",
       "      <td>2018</td>\n",
       "      <td>April</td>\n",
       "      <td>797</td>\n",
       "      <td>NaN</td>\n",
       "      <td>447</td>\n",
       "      <td>144</td>\n",
       "      <td>196</td>\n",
       "      <td>613</td>\n",
       "      <td>304</td>\n",
       "    </tr>\n",
       "    <tr>\n",
       "      <th>4</th>\n",
       "      <td>2018</td>\n",
       "      <td>May</td>\n",
       "      <td>875</td>\n",
       "      <td>NaN</td>\n",
       "      <td>364</td>\n",
       "      <td>90</td>\n",
       "      <td>169</td>\n",
       "      <td>673</td>\n",
       "      <td>319</td>\n",
       "    </tr>\n",
       "  </tbody>\n",
       "</table>\n",
       "</div>"
      ],
      "text/plain": [
       "   Year     Month  1 unit  2 to 4 units  5 units or more  Northeast  Midwest  \\\n",
       "0  2018   January     859           NaN              348        114      169   \n",
       "1  2018  February     882           NaN              400        138      160   \n",
       "2  2018     March     862           NaN              356        150      154   \n",
       "3  2018     April     797           NaN              447        144      196   \n",
       "4  2018       May     875           NaN              364         90      169   \n",
       "\n",
       "   South  West  \n",
       "0    596   339  \n",
       "1    655   336  \n",
       "2    595   330  \n",
       "3    613   304  \n",
       "4    673   319  "
      ]
     },
     "execution_count": 15,
     "metadata": {},
     "output_type": "execute_result"
    }
   ],
   "source": [
    "# Load the CSV file of the data set\n",
    "df = pd.read_csv(\"construction_data.csv\")\n",
    "\n",
    "# Display the first few rows to inspect\n",
    "df.head()"
   ]
  },
  {
   "cell_type": "markdown",
   "id": "f6136b90-5df2-43a0-8a0f-8462f7f2f8ef",
   "metadata": {},
   "source": [
    "In this step I imported the dataset and inspected the first few rows to understand the structure."
   ]
  },
  {
   "cell_type": "markdown",
   "id": "5d4bf0ef-7564-404e-b319-ae99df871618",
   "metadata": {},
   "source": [
    "2. Tidying Data:Melt Regions into One Column"
   ]
  },
  {
   "cell_type": "code",
   "execution_count": 4,
   "id": "0181b961-6ce0-4083-be25-11a0cb9c63c3",
   "metadata": {},
   "outputs": [
    {
     "data": {
      "text/html": [
       "<div>\n",
       "<style scoped>\n",
       "    .dataframe tbody tr th:only-of-type {\n",
       "        vertical-align: middle;\n",
       "    }\n",
       "\n",
       "    .dataframe tbody tr th {\n",
       "        vertical-align: top;\n",
       "    }\n",
       "\n",
       "    .dataframe thead th {\n",
       "        text-align: right;\n",
       "    }\n",
       "</style>\n",
       "<table border=\"1\" class=\"dataframe\">\n",
       "  <thead>\n",
       "    <tr style=\"text-align: right;\">\n",
       "      <th></th>\n",
       "      <th>Year</th>\n",
       "      <th>Month</th>\n",
       "      <th>1 unit</th>\n",
       "      <th>2 to 4 units</th>\n",
       "      <th>5 units or more</th>\n",
       "      <th>Region</th>\n",
       "    </tr>\n",
       "  </thead>\n",
       "  <tbody>\n",
       "    <tr>\n",
       "      <th>0</th>\n",
       "      <td>2018</td>\n",
       "      <td>January</td>\n",
       "      <td>859</td>\n",
       "      <td>NaN</td>\n",
       "      <td>348</td>\n",
       "      <td>Northeast</td>\n",
       "    </tr>\n",
       "    <tr>\n",
       "      <th>1</th>\n",
       "      <td>2018</td>\n",
       "      <td>February</td>\n",
       "      <td>882</td>\n",
       "      <td>NaN</td>\n",
       "      <td>400</td>\n",
       "      <td>Northeast</td>\n",
       "    </tr>\n",
       "    <tr>\n",
       "      <th>2</th>\n",
       "      <td>2018</td>\n",
       "      <td>March</td>\n",
       "      <td>862</td>\n",
       "      <td>NaN</td>\n",
       "      <td>356</td>\n",
       "      <td>Northeast</td>\n",
       "    </tr>\n",
       "    <tr>\n",
       "      <th>3</th>\n",
       "      <td>2018</td>\n",
       "      <td>April</td>\n",
       "      <td>797</td>\n",
       "      <td>NaN</td>\n",
       "      <td>447</td>\n",
       "      <td>Northeast</td>\n",
       "    </tr>\n",
       "    <tr>\n",
       "      <th>4</th>\n",
       "      <td>2018</td>\n",
       "      <td>May</td>\n",
       "      <td>875</td>\n",
       "      <td>NaN</td>\n",
       "      <td>364</td>\n",
       "      <td>Northeast</td>\n",
       "    </tr>\n",
       "  </tbody>\n",
       "</table>\n",
       "</div>"
      ],
      "text/plain": [
       "   Year     Month  1 unit  2 to 4 units  5 units or more     Region\n",
       "0  2018   January     859           NaN              348  Northeast\n",
       "1  2018  February     882           NaN              400  Northeast\n",
       "2  2018     March     862           NaN              356  Northeast\n",
       "3  2018     April     797           NaN              447  Northeast\n",
       "4  2018       May     875           NaN              364  Northeast"
      ]
     },
     "execution_count": 4,
     "metadata": {},
     "output_type": "execute_result"
    }
   ],
   "source": [
    "# Melt wide regional columns into a single 'Region' column\n",
    "tidy_df = df.melt(\n",
    "    id_vars=[\"Year\", \"Month\", \"1 unit\", \"2 to 4 units\", \"5 units or more\"],\n",
    "    value_vars=[\"Northeast\", \"Midwest\", \"South\", \"West\"],\n",
    "    var_name=\"Region\", \n",
    "    value_name=\"Dummy\"\n",
    ")\n",
    "\n",
    "# Drop Dummy column since it holds no value\n",
    "tidy_df = tidy_df.drop(columns=[\"Dummy\"])\n",
    "\n",
    "# Inspect the tidied dataframe\n",
    "tidy_df.head()"
   ]
  },
  {
   "cell_type": "markdown",
   "id": "acd56a6f-1431-4d5f-9ead-69b624c34d69",
   "metadata": {},
   "source": [
    "In this step I reshaped the data using pd.melt() to tidy the regions into a single \"Region\" column."
   ]
  },
  {
   "cell_type": "markdown",
   "id": "63805915-a381-4630-8ce4-bf89373d7bee",
   "metadata": {},
   "source": [
    "3. Transform Data & Handle Missing Values"
   ]
  },
  {
   "cell_type": "code",
   "execution_count": 5,
   "id": "3c8d3810-84bd-4915-8bd6-c75c98b2ff9b",
   "metadata": {},
   "outputs": [
    {
     "data": {
      "text/plain": [
       "Year                0\n",
       "Month               0\n",
       "1 unit              0\n",
       "2 to 4 units       36\n",
       "5 units or more     0\n",
       "Region              0\n",
       "dtype: int64"
      ]
     },
     "execution_count": 5,
     "metadata": {},
     "output_type": "execute_result"
    }
   ],
   "source": [
    "# Replace N/A strings with NaN\n",
    "cols_to_numeric = [\"1 unit\", \"2 to 4 units\", \"5 units or more\"]\n",
    "for col in cols_to_numeric:\n",
    "    tidy_df[col] = pd.to_numeric(tidy_df[col], errors='coerce')\n",
    "\n",
    "# Check for missing values\n",
    "tidy_df.isnull().sum()"
   ]
  },
  {
   "cell_type": "code",
   "execution_count": 6,
   "id": "efbd2ea6-8c05-4f8c-9360-045eaa8ae662",
   "metadata": {},
   "outputs": [
    {
     "data": {
      "text/html": [
       "<div>\n",
       "<style scoped>\n",
       "    .dataframe tbody tr th:only-of-type {\n",
       "        vertical-align: middle;\n",
       "    }\n",
       "\n",
       "    .dataframe tbody tr th {\n",
       "        vertical-align: top;\n",
       "    }\n",
       "\n",
       "    .dataframe thead th {\n",
       "        text-align: right;\n",
       "    }\n",
       "</style>\n",
       "<table border=\"1\" class=\"dataframe\">\n",
       "  <thead>\n",
       "    <tr style=\"text-align: right;\">\n",
       "      <th></th>\n",
       "      <th>Year</th>\n",
       "      <th>Month</th>\n",
       "      <th>1 unit</th>\n",
       "      <th>2 to 4 units</th>\n",
       "      <th>5 units or more</th>\n",
       "      <th>Region</th>\n",
       "      <th>Total_Units</th>\n",
       "    </tr>\n",
       "  </thead>\n",
       "  <tbody>\n",
       "    <tr>\n",
       "      <th>0</th>\n",
       "      <td>2018</td>\n",
       "      <td>January</td>\n",
       "      <td>859</td>\n",
       "      <td>NaN</td>\n",
       "      <td>348</td>\n",
       "      <td>Northeast</td>\n",
       "      <td>1207.0</td>\n",
       "    </tr>\n",
       "    <tr>\n",
       "      <th>1</th>\n",
       "      <td>2018</td>\n",
       "      <td>February</td>\n",
       "      <td>882</td>\n",
       "      <td>NaN</td>\n",
       "      <td>400</td>\n",
       "      <td>Northeast</td>\n",
       "      <td>1282.0</td>\n",
       "    </tr>\n",
       "    <tr>\n",
       "      <th>2</th>\n",
       "      <td>2018</td>\n",
       "      <td>March</td>\n",
       "      <td>862</td>\n",
       "      <td>NaN</td>\n",
       "      <td>356</td>\n",
       "      <td>Northeast</td>\n",
       "      <td>1218.0</td>\n",
       "    </tr>\n",
       "    <tr>\n",
       "      <th>3</th>\n",
       "      <td>2018</td>\n",
       "      <td>April</td>\n",
       "      <td>797</td>\n",
       "      <td>NaN</td>\n",
       "      <td>447</td>\n",
       "      <td>Northeast</td>\n",
       "      <td>1244.0</td>\n",
       "    </tr>\n",
       "    <tr>\n",
       "      <th>4</th>\n",
       "      <td>2018</td>\n",
       "      <td>May</td>\n",
       "      <td>875</td>\n",
       "      <td>NaN</td>\n",
       "      <td>364</td>\n",
       "      <td>Northeast</td>\n",
       "      <td>1239.0</td>\n",
       "    </tr>\n",
       "  </tbody>\n",
       "</table>\n",
       "</div>"
      ],
      "text/plain": [
       "   Year     Month  1 unit  2 to 4 units  5 units or more     Region  \\\n",
       "0  2018   January     859           NaN              348  Northeast   \n",
       "1  2018  February     882           NaN              400  Northeast   \n",
       "2  2018     March     862           NaN              356  Northeast   \n",
       "3  2018     April     797           NaN              447  Northeast   \n",
       "4  2018       May     875           NaN              364  Northeast   \n",
       "\n",
       "   Total_Units  \n",
       "0       1207.0  \n",
       "1       1282.0  \n",
       "2       1218.0  \n",
       "3       1244.0  \n",
       "4       1239.0  "
      ]
     },
     "execution_count": 6,
     "metadata": {},
     "output_type": "execute_result"
    }
   ],
   "source": [
    "# Create a 'Total_Units' column\n",
    "tidy_df[\"Total_Units\"] = tidy_df[cols_to_numeric].sum(axis=1)\n",
    "\n",
    "# Inspect results\n",
    "tidy_df.head()"
   ]
  },
  {
   "cell_type": "markdown",
   "id": "b5e8bc99-d7d9-4bf3-8a05-8f705c0f02d8",
   "metadata": {},
   "source": [
    "In this step I converted unit columns to numeric, handled missing data, and created a \"Total_Units\" column."
   ]
  },
  {
   "cell_type": "markdown",
   "id": "c081bf60-89f8-4e4b-a68c-b5ecfd92a2b2",
   "metadata": {},
   "source": [
    "4. Performing Analysis of what was requested in the discussion of my classmate"
   ]
  },
  {
   "cell_type": "code",
   "execution_count": 10,
   "id": "0c550027-b151-4ce8-8d4b-741ef8f15139",
   "metadata": {},
   "outputs": [
    {
     "name": "stdout",
     "output_type": "stream",
     "text": [
      "Region\n",
      "Midwest      10952.0\n",
      "Northeast    10952.0\n",
      "South        10952.0\n",
      "West         10952.0\n",
      "Name: Total_Units, dtype: float64\n"
     ]
    }
   ],
   "source": [
    "# Analysis 1 - Which Region has the most Construction?\n",
    "\n",
    "region_summary = tidy_df.groupby(\"Region\")[\"Total_Units\"].sum().sort_values(ascending=False)\n",
    "print(region_summary)"
   ]
  },
  {
   "cell_type": "markdown",
   "id": "65ded986-ec1a-42ce-b7cd-a3bcfbaf4b1b",
   "metadata": {},
   "source": [
    "The totals show that all regions (Midwest, Northeast, South, and West) have the same total construction units at 10,952 units each.\n"
   ]
  },
  {
   "cell_type": "code",
   "execution_count": 16,
   "id": "a5c95635-b1c0-4cd7-ad0c-1d50acc65a71",
   "metadata": {},
   "outputs": [
    {
     "data": {
      "image/png": "[encoded data removed]",
      "text/plain": [
       "<Figure size 640x480 with 1 Axes>"
      ]
     },
     "metadata": {},
     "output_type": "display_data"
    }
   ],
   "source": [
    "# Visualization #1 - Total Units by Region\n",
    "region_summary.plot(kind=\"bar\", title=\"Total Construction Units by Region\", ylabel=\"Units\", xlabel=\"Region\")\n",
    "plt.show()"
   ]
  },
  {
   "cell_type": "markdown",
   "id": "9ed12447-945c-483f-a346-9721c6e1bc4c",
   "metadata": {},
   "source": [
    "This bar chart confirms the tabular results above where all regions have the same total units.\n"
   ]
  },
  {
   "cell_type": "code",
   "execution_count": 13,
   "id": "db131443-2553-441e-88b5-ee934d7199be",
   "metadata": {},
   "outputs": [
    {
     "name": "stdout",
     "output_type": "stream",
     "text": [
      "Month\n",
      "April        4976.0\n",
      "August       4900.0\n",
      "February     5128.0\n",
      "January      4828.0\n",
      "July         4756.0\n",
      "June         4836.0\n",
      "March        4872.0\n",
      "May          4956.0\n",
      "September    4556.0\n",
      "Name: Total_Units, dtype: float64\n"
     ]
    },
    {
     "data": {
      "image/png": "[encoded data removed]",
      "text/plain": [
       "<Figure size 640x480 with 1 Axes>"
      ]
     },
     "metadata": {},
     "output_type": "display_data"
    }
   ],
   "source": [
    "# Analysis 2 - Monthly Trends Across All Regions\n",
    "\n",
    "month_summary = tidy_df.groupby(\"Month\")[\"Total_Units\"].sum()\n",
    "print(month_summary)\n",
    "\n",
    "month_summary.plot(kind=\"line\", marker='o', title=\"Total Construction Units by Month\", ylabel=\"Units\", xlabel=\"Month\")\n",
    "plt.show()"
   ]
  },
  {
   "cell_type": "markdown",
   "id": "718f5385-6723-4275-87d0-6817c1f3f968",
   "metadata": {},
   "source": [
    "Visualization 2 identified which months had the highest and lowest construction totals. February recorded the highest number of total units, while September had the lowest. This shows a trend where construction fluctuates significantly month-to-month."
   ]
  },
  {
   "cell_type": "code",
   "execution_count": 17,
   "id": "d2ac88f1-3b0e-489c-9ef2-2b7c2e1f8d71",
   "metadata": {},
   "outputs": [
    {
     "name": "stdout",
     "output_type": "stream",
     "text": [
      "           1 unit  2 to 4 units  5 units or more\n",
      "Region                                          \n",
      "Midwest      7745           0.0             3207\n",
      "Northeast    7745           0.0             3207\n",
      "South        7745           0.0             3207\n",
      "West         7745           0.0             3207\n"
     ]
    },
    {
     "data": {
      "image/png": "[encoded data removed]",
      "text/plain": [
       "<Figure size 640x480 with 1 Axes>"
      ]
     },
     "metadata": {},
     "output_type": "display_data"
    }
   ],
   "source": [
    "# Analysis 3 - Pattern Between Units and Region\n",
    "\n",
    "pattern = tidy_df.groupby(\"Region\")[[\"1 unit\", \"2 to 4 units\", \"5 units or more\"]].sum()\n",
    "print(pattern)\n",
    "\n",
    "pattern.plot(kind=\"bar\", stacked=True, title=\"Unit Type Distribution by Region\")\n",
    "plt.ylabel(\"Units\")\n",
    "plt.show()"
   ]
  },
  {
   "cell_type": "markdown",
   "id": "53c2d8c5-0cd8-4b85-9af4-e4132a9e241d",
   "metadata": {},
   "source": [
    "This 3rd Visualization checked if certain regions had more '1 unit', '2 to 4 units', or '5 units or more' constructions. Every region follows a similar distribution pattern. Most units are \"1 unit\" types, followed by \"5 units or more,\" with no \"2 to 4 units\" reported. This pattern holds consistently across Midwest, Northeast, South, and West regions."
   ]
  },
  {
   "cell_type": "markdown",
   "id": "04b28c47-85bf-4d68-88e9-0b01dba00dc1",
   "metadata": {},
   "source": [
    "Conclusion for construction_Data\n",
    "\n",
    "All four regions had equal total construction units.\n",
    "February was the most active construction month, while September had the lowest activity. Each region favors smaller developments (1-unit buildings), with secondary contributions from \"5 units or more\" developments."
   ]
  },
  {
   "cell_type": "code",
   "execution_count": null,
   "id": "64ef69d0-ca2d-4889-bef5-f911d6cb8789",
   "metadata": {},
   "outputs": [],
   "source": []
  }
 ],
 "metadata": {
  "kernelspec": {
   "display_name": "Python 3",
   "language": "python",
   "name": "python3"
  },
  "language_info": {
   "codemirror_mode": {
    "name": "ipython",
    "version": 3
   },
   "file_extension": ".py",
   "mimetype": "text/x-python",
   "name": "python",
   "nbconvert_exporter": "python",
   "pygments_lexer": "ipython3",
   "version": "3.12.4"
  }
 },
 "nbformat": 4,
 "nbformat_minor": 5
}
