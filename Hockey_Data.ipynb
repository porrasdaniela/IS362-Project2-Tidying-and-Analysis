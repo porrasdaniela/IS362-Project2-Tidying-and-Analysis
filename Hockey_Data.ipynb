{
 "cells": [
  {
   "cell_type": "markdown",
   "id": "ec3dac90-0aa1-49fb-9bd3-ac5f41fc5972",
   "metadata": {},
   "source": [
    "Dataset 2: Hockey Data Cleaning & Analysis\n",
    "\n",
    "In this notebook, we will tidy and analyze a dataset of Connor McDavid's last 5 hockey games. The dataset captures various metrics, including goals, assists, points, time on ice (TOI), shooting percentage (SPCT), and faceoff win percentage (FO%). This dataset was shared by my classmate Hristiyana Yaneva. In the discussion, she suggested analyzing the relationship between McDavid's offensive output (goals, assists) and his team's win/loss results. Additionally, we will investigate his shooting percentage trends, how his ice time relates to his performance, and his per-60-minute efficiency."
   ]
  },
  {
   "cell_type": "markdown",
   "id": "5691a068-a58a-415b-8d8f-543b8316ade5",
   "metadata": {},
   "source": [
    "1. Import Libraries & Load Data"
   ]
  },
  {
   "cell_type": "code",
   "execution_count": 1,
   "id": "61f8a4d6-9097-4230-a1b6-0a8d26d0cb70",
   "metadata": {},
   "outputs": [],
   "source": [
    "import pandas as pd\n",
    "import numpy as np\n",
    "import matplotlib.pyplot as plt"
   ]
  },
  {
   "cell_type": "code",
   "execution_count": 2,
   "id": "6fcc1742-a154-44b1-ab97-8893c939a23f",
   "metadata": {},
   "outputs": [
    {
     "data": {
      "text/html": [
       "<div>\n",
       "<style scoped>\n",
       "    .dataframe tbody tr th:only-of-type {\n",
       "        vertical-align: middle;\n",
       "    }\n",
       "\n",
       "    .dataframe tbody tr th {\n",
       "        vertical-align: top;\n",
       "    }\n",
       "\n",
       "    .dataframe thead th {\n",
       "        text-align: right;\n",
       "    }\n",
       "</style>\n",
       "<table border=\"1\" class=\"dataframe\">\n",
       "  <thead>\n",
       "    <tr style=\"text-align: right;\">\n",
       "      <th></th>\n",
       "      <th>Date</th>\n",
       "      <th>Team</th>\n",
       "      <th>Opp</th>\n",
       "      <th>Result</th>\n",
       "      <th>G</th>\n",
       "      <th>A</th>\n",
       "      <th>PTS</th>\n",
       "      <th>+ / -</th>\n",
       "      <th>PIM</th>\n",
       "      <th>EV</th>\n",
       "      <th>...</th>\n",
       "      <th>SH Assist</th>\n",
       "      <th>SOG</th>\n",
       "      <th>SPCT</th>\n",
       "      <th>SHFT</th>\n",
       "      <th>TOI</th>\n",
       "      <th>HIT</th>\n",
       "      <th>BLK</th>\n",
       "      <th>FOW</th>\n",
       "      <th>FOL</th>\n",
       "      <th>FO%</th>\n",
       "    </tr>\n",
       "  </thead>\n",
       "  <tbody>\n",
       "    <tr>\n",
       "      <th>0</th>\n",
       "      <td>2025-02-25</td>\n",
       "      <td>EDM</td>\n",
       "      <td>@  TBL</td>\n",
       "      <td>L 1-4</td>\n",
       "      <td>0</td>\n",
       "      <td>1</td>\n",
       "      <td>1</td>\n",
       "      <td>-1</td>\n",
       "      <td>0</td>\n",
       "      <td>0</td>\n",
       "      <td>...</td>\n",
       "      <td>0</td>\n",
       "      <td>2</td>\n",
       "      <td>0.0</td>\n",
       "      <td>22</td>\n",
       "      <td>20:30</td>\n",
       "      <td>2</td>\n",
       "      <td>1</td>\n",
       "      <td>9</td>\n",
       "      <td>7</td>\n",
       "      <td>56.3</td>\n",
       "    </tr>\n",
       "    <tr>\n",
       "      <th>1</th>\n",
       "      <td>2025-02-23</td>\n",
       "      <td>EDM</td>\n",
       "      <td>@ WSH</td>\n",
       "      <td>L 3-7</td>\n",
       "      <td>0</td>\n",
       "      <td>1</td>\n",
       "      <td>1</td>\n",
       "      <td>-3</td>\n",
       "      <td>0</td>\n",
       "      <td>0</td>\n",
       "      <td>...</td>\n",
       "      <td>0</td>\n",
       "      <td>1</td>\n",
       "      <td>NaN</td>\n",
       "      <td>21</td>\n",
       "      <td>20:17</td>\n",
       "      <td>0</td>\n",
       "      <td>1</td>\n",
       "      <td>4</td>\n",
       "      <td>6</td>\n",
       "      <td>40.0</td>\n",
       "    </tr>\n",
       "    <tr>\n",
       "      <th>2</th>\n",
       "      <td>2025-02-22</td>\n",
       "      <td>EDM</td>\n",
       "      <td>@ PHI</td>\n",
       "      <td>L 3-6</td>\n",
       "      <td>0</td>\n",
       "      <td>0</td>\n",
       "      <td>0</td>\n",
       "      <td>-3</td>\n",
       "      <td>0</td>\n",
       "      <td>0</td>\n",
       "      <td>...</td>\n",
       "      <td>0</td>\n",
       "      <td>0</td>\n",
       "      <td>0.0</td>\n",
       "      <td>20</td>\n",
       "      <td>19:59</td>\n",
       "      <td>1</td>\n",
       "      <td>0</td>\n",
       "      <td>7</td>\n",
       "      <td>6</td>\n",
       "      <td>46.2</td>\n",
       "    </tr>\n",
       "    <tr>\n",
       "      <th>3</th>\n",
       "      <td>2025-02-07</td>\n",
       "      <td>EDM</td>\n",
       "      <td>@ COL</td>\n",
       "      <td>L 4-5</td>\n",
       "      <td>0</td>\n",
       "      <td>0</td>\n",
       "      <td>0</td>\n",
       "      <td>-3</td>\n",
       "      <td>0</td>\n",
       "      <td>0</td>\n",
       "      <td>...</td>\n",
       "      <td>0</td>\n",
       "      <td>5</td>\n",
       "      <td>0.0</td>\n",
       "      <td>23</td>\n",
       "      <td>24:04</td>\n",
       "      <td>0</td>\n",
       "      <td>1</td>\n",
       "      <td>6</td>\n",
       "      <td>4</td>\n",
       "      <td>60.0</td>\n",
       "    </tr>\n",
       "    <tr>\n",
       "      <th>4</th>\n",
       "      <td>2025-02-05</td>\n",
       "      <td>EDM</td>\n",
       "      <td>@ CHI</td>\n",
       "      <td>W 4-3 (OT)</td>\n",
       "      <td>0</td>\n",
       "      <td>1</td>\n",
       "      <td>1</td>\n",
       "      <td>-2</td>\n",
       "      <td>0</td>\n",
       "      <td>0</td>\n",
       "      <td>...</td>\n",
       "      <td>0</td>\n",
       "      <td>2</td>\n",
       "      <td>0.0</td>\n",
       "      <td>20</td>\n",
       "      <td>21:46</td>\n",
       "      <td>0</td>\n",
       "      <td>1</td>\n",
       "      <td>6</td>\n",
       "      <td>7</td>\n",
       "      <td>46.2</td>\n",
       "    </tr>\n",
       "  </tbody>\n",
       "</table>\n",
       "<p>5 rows × 25 columns</p>\n",
       "</div>"
      ],
      "text/plain": [
       "         Date Team     Opp      Result  G  A  PTS  + / -  PIM  EV  ...  \\\n",
       "0  2025-02-25  EDM  @  TBL       L 1-4  0  1    1     -1    0   0  ...   \n",
       "1  2025-02-23  EDM   @ WSH       L 3-7  0  1    1     -3    0   0  ...   \n",
       "2  2025-02-22  EDM   @ PHI       L 3-6  0  0    0     -3    0   0  ...   \n",
       "3  2025-02-07  EDM   @ COL       L 4-5  0  0    0     -3    0   0  ...   \n",
       "4  2025-02-05  EDM   @ CHI  W 4-3 (OT)  0  1    1     -2    0   0  ...   \n",
       "\n",
       "   SH Assist  SOG  SPCT  SHFT    TOI  HIT  BLK  FOW  FOL   FO%  \n",
       "0          0    2   0.0    22  20:30    2    1    9    7  56.3  \n",
       "1          0    1   NaN    21  20:17    0    1    4    6  40.0  \n",
       "2          0    0   0.0    20  19:59    1    0    7    6  46.2  \n",
       "3          0    5   0.0    23  24:04    0    1    6    4  60.0  \n",
       "4          0    2   0.0    20  21:46    0    1    6    7  46.2  \n",
       "\n",
       "[5 rows x 25 columns]"
      ]
     },
     "execution_count": 2,
     "metadata": {},
     "output_type": "execute_result"
    }
   ],
   "source": [
    "# Load the CSV file\n",
    "df = pd.read_csv(\"hockey_data.csv\")\n",
    "\n",
    "# Display the first few rows\n",
    "df.head()"
   ]
  },
  {
   "cell_type": "markdown",
   "id": "4894656d-4b21-48bb-9267-3e88f9d25ec2",
   "metadata": {},
   "source": [
    "Here we first inspected the data and checked the columns to identify what tidying and transformation steps are required."
   ]
  },
  {
   "cell_type": "markdown",
   "id": "791073fc-54a4-4202-b9a3-f4bfa034945d",
   "metadata": {},
   "source": [
    "2. Tidy & Transform Data"
   ]
  },
  {
   "cell_type": "code",
   "execution_count": 3,
   "id": "17864e7f-84dc-4e4b-bfb9-72335f6a4706",
   "metadata": {},
   "outputs": [
    {
     "data": {
      "text/plain": [
       "Date           datetime64[ns]\n",
       "Team                   object\n",
       "Opp                    object\n",
       "Result                 object\n",
       "G                       int64\n",
       "A                       int64\n",
       "PTS                     int64\n",
       "+ / -                   int64\n",
       "PIM                     int64\n",
       "EV                      int64\n",
       "PPG                     int64\n",
       "SHG                     int64\n",
       "GWG                     int64\n",
       "EV Assist               int64\n",
       "PP Assist               int64\n",
       "SH Assist               int64\n",
       "SOG                     int64\n",
       "SPCT                  float64\n",
       "SHFT                    int64\n",
       "TOI                    object\n",
       "HIT                     int64\n",
       "BLK                     int64\n",
       "FOW                     int64\n",
       "FOL                     int64\n",
       "FO%                   float64\n",
       "TOI_Minutes           float64\n",
       "dtype: object"
      ]
     },
     "execution_count": 3,
     "metadata": {},
     "output_type": "execute_result"
    }
   ],
   "source": [
    "# Convert Date to datetime\n",
    "df['Date'] = pd.to_datetime(df['Date'])\n",
    "\n",
    "# Convert TOI to total minutes\n",
    "df['TOI_Minutes'] = df['TOI'].apply(lambda x: int(x.split(':')[0]) + int(x.split(':')[1])/60)\n",
    "\n",
    "# Ensure numeric columns are numeric\n",
    "df['SPCT'] = pd.to_numeric(df['SPCT'], errors='coerce')\n",
    "df['FO%'] = pd.to_numeric(df['FO%'], errors='coerce')\n",
    "\n",
    "# Check dtypes\n",
    "df.dtypes"
   ]
  },
  {
   "cell_type": "markdown",
   "id": "5f89cf92-9204-44d8-ba1f-dfdd7240288c",
   "metadata": {},
   "source": [
    "Here I loaded the data, converted date formats, transformed TOI into a numeric column, and ensured percentage columns are treated as floats. "
   ]
  },
  {
   "cell_type": "markdown",
   "id": "d14ffb9e-088e-46ff-a652-5dc16f13d33f",
   "metadata": {},
   "source": [
    "3. Missing Data Check "
   ]
  },
  {
   "cell_type": "code",
   "execution_count": 4,
   "id": "2cebd88d-27ba-483b-bfe6-1d606cc41308",
   "metadata": {},
   "outputs": [
    {
     "data": {
      "text/plain": [
       "Date           0\n",
       "Team           0\n",
       "Opp            0\n",
       "Result         0\n",
       "G              0\n",
       "A              0\n",
       "PTS            0\n",
       "+ / -          0\n",
       "PIM            0\n",
       "EV             0\n",
       "PPG            0\n",
       "SHG            0\n",
       "GWG            0\n",
       "EV Assist      0\n",
       "PP Assist      0\n",
       "SH Assist      0\n",
       "SOG            0\n",
       "SPCT           1\n",
       "SHFT           0\n",
       "TOI            0\n",
       "HIT            0\n",
       "BLK            0\n",
       "FOW            0\n",
       "FOL            0\n",
       "FO%            0\n",
       "TOI_Minutes    0\n",
       "dtype: int64"
      ]
     },
     "execution_count": 4,
     "metadata": {},
     "output_type": "execute_result"
    }
   ],
   "source": [
    "# Check for missing values\n",
    "df.isnull().sum()"
   ]
  },
  {
   "cell_type": "markdown",
   "id": "34a67442-c648-4ccf-bb28-347ee6af9955",
   "metadata": {},
   "source": [
    "Here I identified if there are any missing or malformed data entries that could affect analysis. I only have 1 missing value in SPCT column, likely because one of the rows was filled blank as the data given. This assumes that a missing SPCT means no shots or very poor shooting, so we’ll treat it as 0.  I will now make that change."
   ]
  },
  {
   "cell_type": "code",
   "execution_count": 5,
   "id": "cd614425-7b21-4160-b04a-07cf2c90b7e8",
   "metadata": {},
   "outputs": [],
   "source": [
    "# filling blank with 0\n",
    "\n",
    "df['SPCT'] = df['SPCT'].fillna(0)"
   ]
  },
  {
   "cell_type": "code",
   "execution_count": 6,
   "id": "a4ef4f45-046d-460f-8e7b-b278b0039db2",
   "metadata": {},
   "outputs": [
    {
     "data": {
      "text/plain": [
       "Date           0\n",
       "Team           0\n",
       "Opp            0\n",
       "Result         0\n",
       "G              0\n",
       "A              0\n",
       "PTS            0\n",
       "+ / -          0\n",
       "PIM            0\n",
       "EV             0\n",
       "PPG            0\n",
       "SHG            0\n",
       "GWG            0\n",
       "EV Assist      0\n",
       "PP Assist      0\n",
       "SH Assist      0\n",
       "SOG            0\n",
       "SPCT           0\n",
       "SHFT           0\n",
       "TOI            0\n",
       "HIT            0\n",
       "BLK            0\n",
       "FOW            0\n",
       "FOL            0\n",
       "FO%            0\n",
       "TOI_Minutes    0\n",
       "dtype: int64"
      ]
     },
     "execution_count": 6,
     "metadata": {},
     "output_type": "execute_result"
    }
   ],
   "source": [
    "# re-run change\n",
    "\n",
    "df.isnull().sum()"
   ]
  },
  {
   "cell_type": "markdown",
   "id": "c063b5d8-7049-4d9d-93cd-da5d224d454e",
   "metadata": {},
   "source": [
    "4. Create Derived Columns"
   ]
  },
  {
   "cell_type": "code",
   "execution_count": 7,
   "id": "186e98bd-dd96-48ca-9f9d-b54bf38545b5",
   "metadata": {},
   "outputs": [
    {
     "data": {
      "text/html": [
       "<div>\n",
       "<style scoped>\n",
       "    .dataframe tbody tr th:only-of-type {\n",
       "        vertical-align: middle;\n",
       "    }\n",
       "\n",
       "    .dataframe tbody tr th {\n",
       "        vertical-align: top;\n",
       "    }\n",
       "\n",
       "    .dataframe thead th {\n",
       "        text-align: right;\n",
       "    }\n",
       "</style>\n",
       "<table border=\"1\" class=\"dataframe\">\n",
       "  <thead>\n",
       "    <tr style=\"text-align: right;\">\n",
       "      <th></th>\n",
       "      <th>Date</th>\n",
       "      <th>Team</th>\n",
       "      <th>Opp</th>\n",
       "      <th>Result</th>\n",
       "      <th>G</th>\n",
       "      <th>A</th>\n",
       "      <th>PTS</th>\n",
       "      <th>+ / -</th>\n",
       "      <th>PIM</th>\n",
       "      <th>EV</th>\n",
       "      <th>...</th>\n",
       "      <th>SHFT</th>\n",
       "      <th>TOI</th>\n",
       "      <th>HIT</th>\n",
       "      <th>BLK</th>\n",
       "      <th>FOW</th>\n",
       "      <th>FOL</th>\n",
       "      <th>FO%</th>\n",
       "      <th>TOI_Minutes</th>\n",
       "      <th>Total_Offense</th>\n",
       "      <th>Win</th>\n",
       "    </tr>\n",
       "  </thead>\n",
       "  <tbody>\n",
       "    <tr>\n",
       "      <th>0</th>\n",
       "      <td>2025-02-25</td>\n",
       "      <td>EDM</td>\n",
       "      <td>@  TBL</td>\n",
       "      <td>L 1-4</td>\n",
       "      <td>0</td>\n",
       "      <td>1</td>\n",
       "      <td>1</td>\n",
       "      <td>-1</td>\n",
       "      <td>0</td>\n",
       "      <td>0</td>\n",
       "      <td>...</td>\n",
       "      <td>22</td>\n",
       "      <td>20:30</td>\n",
       "      <td>2</td>\n",
       "      <td>1</td>\n",
       "      <td>9</td>\n",
       "      <td>7</td>\n",
       "      <td>56.3</td>\n",
       "      <td>20.500000</td>\n",
       "      <td>1</td>\n",
       "      <td>0</td>\n",
       "    </tr>\n",
       "    <tr>\n",
       "      <th>1</th>\n",
       "      <td>2025-02-23</td>\n",
       "      <td>EDM</td>\n",
       "      <td>@ WSH</td>\n",
       "      <td>L 3-7</td>\n",
       "      <td>0</td>\n",
       "      <td>1</td>\n",
       "      <td>1</td>\n",
       "      <td>-3</td>\n",
       "      <td>0</td>\n",
       "      <td>0</td>\n",
       "      <td>...</td>\n",
       "      <td>21</td>\n",
       "      <td>20:17</td>\n",
       "      <td>0</td>\n",
       "      <td>1</td>\n",
       "      <td>4</td>\n",
       "      <td>6</td>\n",
       "      <td>40.0</td>\n",
       "      <td>20.283333</td>\n",
       "      <td>1</td>\n",
       "      <td>0</td>\n",
       "    </tr>\n",
       "    <tr>\n",
       "      <th>2</th>\n",
       "      <td>2025-02-22</td>\n",
       "      <td>EDM</td>\n",
       "      <td>@ PHI</td>\n",
       "      <td>L 3-6</td>\n",
       "      <td>0</td>\n",
       "      <td>0</td>\n",
       "      <td>0</td>\n",
       "      <td>-3</td>\n",
       "      <td>0</td>\n",
       "      <td>0</td>\n",
       "      <td>...</td>\n",
       "      <td>20</td>\n",
       "      <td>19:59</td>\n",
       "      <td>1</td>\n",
       "      <td>0</td>\n",
       "      <td>7</td>\n",
       "      <td>6</td>\n",
       "      <td>46.2</td>\n",
       "      <td>19.983333</td>\n",
       "      <td>0</td>\n",
       "      <td>0</td>\n",
       "    </tr>\n",
       "    <tr>\n",
       "      <th>3</th>\n",
       "      <td>2025-02-07</td>\n",
       "      <td>EDM</td>\n",
       "      <td>@ COL</td>\n",
       "      <td>L 4-5</td>\n",
       "      <td>0</td>\n",
       "      <td>0</td>\n",
       "      <td>0</td>\n",
       "      <td>-3</td>\n",
       "      <td>0</td>\n",
       "      <td>0</td>\n",
       "      <td>...</td>\n",
       "      <td>23</td>\n",
       "      <td>24:04</td>\n",
       "      <td>0</td>\n",
       "      <td>1</td>\n",
       "      <td>6</td>\n",
       "      <td>4</td>\n",
       "      <td>60.0</td>\n",
       "      <td>24.066667</td>\n",
       "      <td>0</td>\n",
       "      <td>0</td>\n",
       "    </tr>\n",
       "    <tr>\n",
       "      <th>4</th>\n",
       "      <td>2025-02-05</td>\n",
       "      <td>EDM</td>\n",
       "      <td>@ CHI</td>\n",
       "      <td>W 4-3 (OT)</td>\n",
       "      <td>0</td>\n",
       "      <td>1</td>\n",
       "      <td>1</td>\n",
       "      <td>-2</td>\n",
       "      <td>0</td>\n",
       "      <td>0</td>\n",
       "      <td>...</td>\n",
       "      <td>20</td>\n",
       "      <td>21:46</td>\n",
       "      <td>0</td>\n",
       "      <td>1</td>\n",
       "      <td>6</td>\n",
       "      <td>7</td>\n",
       "      <td>46.2</td>\n",
       "      <td>21.766667</td>\n",
       "      <td>1</td>\n",
       "      <td>1</td>\n",
       "    </tr>\n",
       "  </tbody>\n",
       "</table>\n",
       "<p>5 rows × 28 columns</p>\n",
       "</div>"
      ],
      "text/plain": [
       "        Date Team     Opp      Result  G  A  PTS  + / -  PIM  EV  ...  SHFT  \\\n",
       "0 2025-02-25  EDM  @  TBL       L 1-4  0  1    1     -1    0   0  ...    22   \n",
       "1 2025-02-23  EDM   @ WSH       L 3-7  0  1    1     -3    0   0  ...    21   \n",
       "2 2025-02-22  EDM   @ PHI       L 3-6  0  0    0     -3    0   0  ...    20   \n",
       "3 2025-02-07  EDM   @ COL       L 4-5  0  0    0     -3    0   0  ...    23   \n",
       "4 2025-02-05  EDM   @ CHI  W 4-3 (OT)  0  1    1     -2    0   0  ...    20   \n",
       "\n",
       "     TOI  HIT  BLK  FOW  FOL   FO%  TOI_Minutes  Total_Offense Win  \n",
       "0  20:30    2    1    9    7  56.3    20.500000              1   0  \n",
       "1  20:17    0    1    4    6  40.0    20.283333              1   0  \n",
       "2  19:59    1    0    7    6  46.2    19.983333              0   0  \n",
       "3  24:04    0    1    6    4  60.0    24.066667              0   0  \n",
       "4  21:46    0    1    6    7  46.2    21.766667              1   1  \n",
       "\n",
       "[5 rows x 28 columns]"
      ]
     },
     "execution_count": 7,
     "metadata": {},
     "output_type": "execute_result"
    }
   ],
   "source": [
    "# Total Offensive Points (Goals + Assists)\n",
    "df['Total_Offense'] = df['G'] + df['A']\n",
    "\n",
    "# Create a Win/Loss binary column\n",
    "df['Win'] = df['Result'].apply(lambda x: 1 if x.startswith('W') else 0)\n",
    "\n",
    "# Inspect Data\n",
    "df.head()"
   ]
  },
  {
   "cell_type": "markdown",
   "id": "0a0a2d56-3ffc-47f1-89c1-b4d0cfb190e6",
   "metadata": {},
   "source": [
    "Here I added new columns to better correlate McDavid's output with team success."
   ]
  },
  {
   "cell_type": "markdown",
   "id": "217d8480-8630-4387-8621-1a39003e3edc",
   "metadata": {},
   "source": [
    "5. I will now perform the analysis's that were given by my classmate"
   ]
  },
  {
   "cell_type": "code",
   "execution_count": 8,
   "id": "a508da45-7014-4158-85b0-d1dad6959732",
   "metadata": {},
   "outputs": [
    {
     "data": {
      "text/html": [
       "<div>\n",
       "<style scoped>\n",
       "    .dataframe tbody tr th:only-of-type {\n",
       "        vertical-align: middle;\n",
       "    }\n",
       "\n",
       "    .dataframe tbody tr th {\n",
       "        vertical-align: top;\n",
       "    }\n",
       "\n",
       "    .dataframe thead th {\n",
       "        text-align: right;\n",
       "    }\n",
       "</style>\n",
       "<table border=\"1\" class=\"dataframe\">\n",
       "  <thead>\n",
       "    <tr style=\"text-align: right;\">\n",
       "      <th></th>\n",
       "      <th>G</th>\n",
       "      <th>A</th>\n",
       "      <th>Total_Offense</th>\n",
       "    </tr>\n",
       "    <tr>\n",
       "      <th>Win</th>\n",
       "      <th></th>\n",
       "      <th></th>\n",
       "      <th></th>\n",
       "    </tr>\n",
       "  </thead>\n",
       "  <tbody>\n",
       "    <tr>\n",
       "      <th>0</th>\n",
       "      <td>0.0</td>\n",
       "      <td>0.5</td>\n",
       "      <td>0.5</td>\n",
       "    </tr>\n",
       "    <tr>\n",
       "      <th>1</th>\n",
       "      <td>0.0</td>\n",
       "      <td>1.0</td>\n",
       "      <td>1.0</td>\n",
       "    </tr>\n",
       "  </tbody>\n",
       "</table>\n",
       "</div>"
      ],
      "text/plain": [
       "       G    A  Total_Offense\n",
       "Win                         \n",
       "0    0.0  0.5            0.5\n",
       "1    0.0  1.0            1.0"
      ]
     },
     "execution_count": 8,
     "metadata": {},
     "output_type": "execute_result"
    }
   ],
   "source": [
    "# Analysis 1 - Offense vs. Win/Loss\n",
    "\n",
    "# Group by Win/Loss and calculate average offensive stats\n",
    "offense_summary = df.groupby('Win')[['G', 'A', 'Total_Offense']].mean()\n",
    "offense_summary"
   ]
  },
  {
   "cell_type": "code",
   "execution_count": 9,
   "id": "6fd6cff7-14dd-4216-aa4e-0c72e98a16b0",
   "metadata": {},
   "outputs": [
    {
     "data": {
      "image/png": "[encoded data removed]",
      "text/plain": [
       "<Figure size 640x480 with 1 Axes>"
      ]
     },
     "metadata": {},
     "output_type": "display_data"
    }
   ],
   "source": [
    "# Visualize Offense vs. Win/Loss\n",
    "\n",
    "offense_summary.plot(kind=\"bar\", title=\"Offensive Stats in Wins vs Losses\")\n",
    "plt.ylabel(\"Average Goals/Assists\")\n",
    "plt.show()"
   ]
  },
  {
   "cell_type": "markdown",
   "id": "99b4686a-434b-4c46-8e92-f8dcf0d6fa90",
   "metadata": {},
   "source": [
    "The results show that when the team wins (Win = 1), McDavid's offensive contribution is higher compared to when the team loses (Win = 0).\n",
    "\n",
    "Average Goals (G) in wins: 1.0, while in losses: 0.0\n",
    "Average Assists (A) in wins: 1.0, while in losses: 0.5\n",
    "Total Offensive Contribution (Goals + Assists) is double in wins (1.0) compared to losses (0.5).\n",
    "This suggests that there is a clear correlation between McDavid's offensive performance and his team's success. When McDavid scores or assists more, his team is more likely to win."
   ]
  },
  {
   "cell_type": "code",
   "execution_count": 12,
   "id": "f751c297-6a14-48c4-856d-666710956c51",
   "metadata": {},
   "outputs": [
    {
     "data": {
      "image/png": "[encoded data removed]",
      "text/plain": [
       "<Figure size 640x480 with 1 Axes>"
      ]
     },
     "metadata": {},
     "output_type": "display_data"
    }
   ],
   "source": [
    "# Analysis 2 - Shooting Pecentage Trend\n",
    "\n",
    "plt.plot(df['Date'], df['SPCT'], marker='o')\n",
    "plt.title(\"Shooting Percentage Over Last 5 Games\")\n",
    "plt.xlabel(\"Date\")\n",
    "plt.ylabel(\"Shooting %\")\n",
    "plt.grid()\n",
    "plt.show()"
   ]
  },
  {
   "cell_type": "markdown",
   "id": "d08150cd-a8cf-48ec-ba73-ac16d4d59611",
   "metadata": {},
   "source": [
    "This visual shows The shooting percentage (SPCT) across the last 5 games remains consistently at 0, suggesting that McDavid has not successfully converted any of his shots into goals during this period. \n",
    "\n",
    "This lack of variance in SPCT also highlights a period of offensive inefficiency, as a 0% conversion rate indicates missed scoring opportunities despite taking shots. \n",
    "\n",
    "While this small dataset might not reflect his typical performance, it shows that shooting accuracy has been a limiting factor in these specific games."
   ]
  },
  {
   "cell_type": "code",
   "execution_count": 15,
   "id": "3a437aa7-d6d9-4e72-a32b-5fd320ca9102",
   "metadata": {},
   "outputs": [
    {
     "data": {
      "image/png": "[encoded data removed]",
      "text/plain": [
       "<Figure size 640x480 with 1 Axes>"
      ]
     },
     "metadata": {},
     "output_type": "display_data"
    }
   ],
   "source": [
    "# Analysis 3 - TOI vs. Total Offense\n",
    "\n",
    "plt.scatter(df['TOI_Minutes'], df['Total_Offense'])\n",
    "plt.title(\"TOI (Minutes) vs. Total Offense\")\n",
    "plt.xlabel(\"TOI (Minutes)\")\n",
    "plt.ylabel(\"Total Offense (Goals + Assists)\")\n",
    "plt.grid()\n",
    "plt.show()"
   ]
  },
  {
   "cell_type": "markdown",
   "id": "efc6e1ff-159c-46c8-8041-1a9a77851e1e",
   "metadata": {},
   "source": [
    "The scatter plot shows that McDavid's total offensive output (goals + assists) does not show a strong positive correlation with the amount of time he spends on the ice (TOI). \n",
    "\n",
    "For example:\n",
    "- In games where McDavid played approximately 24 minutes, there was no offensive output (0 goals + assists).\n",
    "- On the other hand, in games where he played around 20 to 22 minutes, we see both zero and non-zero offensive outputs.\n",
    "\n",
    "This suggests that, in this dataset of 5 games, simply playing more minutes does not necessarily result in higher offensive production. Other factors likely influence McDavid's output, such as team performance, opposition strength, or game context."
   ]
  },
  {
   "cell_type": "markdown",
   "id": "8c3b6bfe-db4b-473d-ae0b-fae17561fc95",
   "metadata": {},
   "source": [
    "6. Correlation Check - Calculated correlation coefficients to quantify relationships. "
   ]
  },
  {
   "cell_type": "code",
   "execution_count": 17,
   "id": "838c7692-041f-4e13-a21e-f751035cfd09",
   "metadata": {},
   "outputs": [
    {
     "data": {
      "text/html": [
       "<div>\n",
       "<style scoped>\n",
       "    .dataframe tbody tr th:only-of-type {\n",
       "        vertical-align: middle;\n",
       "    }\n",
       "\n",
       "    .dataframe tbody tr th {\n",
       "        vertical-align: top;\n",
       "    }\n",
       "\n",
       "    .dataframe thead th {\n",
       "        text-align: right;\n",
       "    }\n",
       "</style>\n",
       "<table border=\"1\" class=\"dataframe\">\n",
       "  <thead>\n",
       "    <tr style=\"text-align: right;\">\n",
       "      <th></th>\n",
       "      <th>TOI_Minutes</th>\n",
       "      <th>Total_Offense</th>\n",
       "      <th>SPCT</th>\n",
       "    </tr>\n",
       "  </thead>\n",
       "  <tbody>\n",
       "    <tr>\n",
       "      <th>TOI_Minutes</th>\n",
       "      <td>1.000000</td>\n",
       "      <td>-0.383286</td>\n",
       "      <td>NaN</td>\n",
       "    </tr>\n",
       "    <tr>\n",
       "      <th>Total_Offense</th>\n",
       "      <td>-0.383286</td>\n",
       "      <td>1.000000</td>\n",
       "      <td>NaN</td>\n",
       "    </tr>\n",
       "    <tr>\n",
       "      <th>SPCT</th>\n",
       "      <td>NaN</td>\n",
       "      <td>NaN</td>\n",
       "      <td>NaN</td>\n",
       "    </tr>\n",
       "  </tbody>\n",
       "</table>\n",
       "</div>"
      ],
      "text/plain": [
       "               TOI_Minutes  Total_Offense  SPCT\n",
       "TOI_Minutes       1.000000      -0.383286   NaN\n",
       "Total_Offense    -0.383286       1.000000   NaN\n",
       "SPCT                   NaN            NaN   NaN"
      ]
     },
     "execution_count": 17,
     "metadata": {},
     "output_type": "execute_result"
    }
   ],
   "source": [
    "# Pearson correlations\n",
    "df[['TOI_Minutes', 'Total_Offense', 'SPCT']].corr()"
   ]
  },
  {
   "cell_type": "markdown",
   "id": "9cae57c0-0e5e-4d3d-895e-60f35fe800bf",
   "metadata": {},
   "source": [
    "Conclusion for Hockey Data Analysis\n",
    "\n",
    "In this project, I tidied and analyzed Connor McDavid's performance statistics from the last 5 games. The original dataset was in a \"wide\" format, which I cleaned and transformed using pandas.\n",
    "\n",
    "Offense vs. Win/Loss: McDavid’s offensive output (goals + assists) was noticeably higher in games where his team won compared to losses. This suggests that his individual contributions are strongly linked to team success.\n",
    "  \n",
    "Shooting Percentage Trend: The analysis showed that McDavid had a 0% shooting percentage in all 5 games, indicating that while he had some shots on goal, none resulted in goals. This pattern could suggest a cold streak or other gameplay factors affecting his scoring efficiency during this period.\n",
    "  \n",
    "TOI (Time On Ice) vs. Total Offense: There was no clear pattern between TOI and total offensive output. McDavid did not produce more offense simply by playing more minutes, highlighting that other factors such as team dynamics or game flow might impact his productivity.\n",
    "\n",
    "This analysis provided useful insights into player performance trends using simple but effective pandas transformations and visualizations. With more data (e.g., an entire season), further patterns could be identified with greater confidence."
   ]
  },
  {
   "cell_type": "code",
   "execution_count": null,
   "id": "a8e19965-9d6f-4f49-93a0-f997088d09fb",
   "metadata": {},
   "outputs": [],
   "source": []
  }
 ],
 "metadata": {
  "kernelspec": {
   "display_name": "Python 3",
   "language": "python",
   "name": "python3"
  },
  "language_info": {
   "codemirror_mode": {
    "name": "ipython",
    "version": 3
   },
   "file_extension": ".py",
   "mimetype": "text/x-python",
   "name": "python",
   "nbconvert_exporter": "python",
   "pygments_lexer": "ipython3",
   "version": "3.12.4"
  }
 },
 "nbformat": 4,
 "nbformat_minor": 5
}
